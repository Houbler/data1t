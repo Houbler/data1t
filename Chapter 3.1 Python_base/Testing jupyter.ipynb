{
 "cells": [
  {
   "cell_type": "markdown",
   "id": "3f109be3",
   "metadata": {},
   "source": [
    "Написать программу, которая удаляет из списка все элементы, стоящие на четных позициях."
   ]
  },
  {
   "cell_type": "code",
   "execution_count": 1,
   "id": "c346e9f2",
   "metadata": {},
   "outputs": [
    {
     "name": "stdout",
     "output_type": "stream",
     "text": [
      "[2, 4, 6, 8]\n"
     ]
    }
   ],
   "source": [
    "list1 = [1, 2, 3, 4, 5, 6, 7, 8, 9]\n",
    "\n",
    "def delete_chet_n(list):\n",
    "    return list[1::2]\n",
    "\n",
    "print(delete_chet_n(list1))"
   ]
  },
  {
   "cell_type": "markdown",
   "id": "bc95be20",
   "metadata": {},
   "source": [
    "Написать программу, которая считывает список слов и находит слова, содержащие более трех гласных букв."
   ]
  },
  {
   "cell_type": "code",
   "execution_count": 2,
   "id": "e6de77f6",
   "metadata": {},
   "outputs": [
    {
     "name": "stdout",
     "output_type": "stream",
     "text": [
      "['Goodby', 'Elephant', 'Machine']\n"
     ]
    }
   ],
   "source": [
    "list_of_words = ['Hello', 'Goodby', 'Key', 'Taxi', 'Elephant', 'Water', 'Digger', 'Machine']\n",
    "list_of_vowels = ['a', 'i', 'u', 'e', 'o', 'y']\n",
    "\n",
    "def three_vowels(list_of_words):\n",
    "    new_list = []\n",
    "    for i in range(len(list_of_words)):\n",
    "        count = 0\n",
    "        for k in range(len(list_of_words[i])):\n",
    "            if(list_of_words[i][k].lower() in list_of_vowels):\n",
    "                count += 1\n",
    "                if count == 3:\n",
    "                    new_list.append(list_of_words[i])\n",
    "    return new_list\n",
    "\n",
    "print(three_vowels(list_of_words))"
   ]
  },
  {
   "cell_type": "markdown",
   "id": "54bed6f8",
   "metadata": {},
   "source": [
    "Написать программу, которая находит второй по величине элемент в списке."
   ]
  },
  {
   "cell_type": "code",
   "execution_count": 3,
   "id": "42533326",
   "metadata": {},
   "outputs": [
    {
     "name": "stdout",
     "output_type": "stream",
     "text": [
      "elephant\n"
     ]
    }
   ],
   "source": [
    "list_of_words = ['hello', 'goodby', 'key', 'taxi', 'elephant', 'water', 'digger', 'machine', 'kawabanga']\n",
    "\n",
    "def almost_max_elem(list_of_words):\n",
    "    max_count = 0\n",
    "    almost_max_word = ''\n",
    "    max_word = ''\n",
    "    for i in range(len(list_of_words)):\n",
    "        count = 0\n",
    "        for k in range(len(list_of_words[i])):\n",
    "            count += 1\n",
    "            if count > max_count:\n",
    "                max_count = count\n",
    "                almost_max_word = max_word\n",
    "                max_word = list_of_words[i]\n",
    "    return almost_max_word\n",
    "\n",
    "print(almost_max_elem(list_of_words))"
   ]
  },
  {
   "cell_type": "markdown",
   "id": "58d0a068",
   "metadata": {},
   "source": [
    "Написать программу, которая удаляет из списка все дубликаты."
   ]
  },
  {
   "cell_type": "code",
   "execution_count": 4,
   "id": "ac8c1b6a",
   "metadata": {},
   "outputs": [
    {
     "name": "stdout",
     "output_type": "stream",
     "text": [
      "['hello', 'goodby', 'key', 'taxi', 'elephant', 'water', 'digger', 'machine', 'kawabanga']\n"
     ]
    }
   ],
   "source": [
    "list_of_words = ['hello', 'goodby', 'key', 'taxi', 'taxi', 'elephant', 'water', 'digger', 'machine', 'key', 'kawabanga']\n",
    "\n",
    "def no_duplicates(list_of_words):\n",
    "    list_unic = []\n",
    "    for i in range(len(list_of_words)):\n",
    "        if(list_of_words[i] not in list_unic):\n",
    "            list_unic.append(list_of_words[i])\n",
    "    return list_unic\n",
    "\n",
    "print(no_duplicates(list_of_words))"
   ]
  },
  {
   "cell_type": "markdown",
   "id": "921dd3a2",
   "metadata": {},
   "source": [
    "Написать программу, которая считывает данные из CSV-файла и создает словарь, где ключами являются значения в столбце «Name», а значениями — соответствующие им словари с информацией о поле, возрасте и зарплате."
   ]
  },
  {
   "cell_type": "code",
   "execution_count": 5,
   "id": "1e6fa59e",
   "metadata": {},
   "outputs": [
    {
     "name": "stdout",
     "output_type": "stream",
     "text": [
      "{'Beth': ['F', '25', '70936'], 'Lloyd': ['M', '29', '56655'], 'Timothy': ['M', '54', '50217'], 'Diane': ['F', '38', '75763'], 'Francis': ['M', '23', '95297'], 'Leon': ['M', '28', '27966'], 'Rebecca': ['F', '43', '76737'], 'Doris': ['F', '29', '67378'], 'Charles': ['M', '55', '21519'], 'Emily': ['F', '20', '44343'], 'William': ['M', '41', '29671'], 'Lawrence': ['F', '21', '67276'], 'Maria': ['F', '32', '54969'], 'Phillip': ['N', '37', '92612']}\n"
     ]
    }
   ],
   "source": [
    "import csv\n",
    "\n",
    "dict = {}\n",
    "with open('sample.csv') as file_csv:\n",
    "    csvreader = csv.reader(file_csv)\n",
    "    next(csvreader)\n",
    "    for row in csvreader:\n",
    "        name = row[0]\n",
    "        info = row[1:]\n",
    "        dict[name] = info\n",
    "\n",
    "print(dict)"
   ]
  },
  {
   "cell_type": "markdown",
   "id": "afd42f27",
   "metadata": {},
   "source": [
    "Написать программу, которая запрашивает у пользователя строку и выводит на экран все ее подстроки длиной не менее трех символов."
   ]
  },
  {
   "cell_type": "code",
   "execution_count": 6,
   "id": "8164c394",
   "metadata": {},
   "outputs": [
    {
     "name": "stdout",
     "output_type": "stream",
     "text": [
      "['abvgd', 'abvg', 'abv', 'abv', 'abvg', 'abvgd']\n"
     ]
    }
   ],
   "source": [
    "user_str = input('Enter: ')\n",
    "print([sub for sub in user_str.split(' ') if len(sub) >=3])"
   ]
  }
 ],
 "metadata": {
  "kernelspec": {
   "display_name": "Python 3 (ipykernel)",
   "language": "python",
   "name": "python3"
  },
  "language_info": {
   "codemirror_mode": {
    "name": "ipython",
    "version": 3
   },
   "file_extension": ".py",
   "mimetype": "text/x-python",
   "name": "python",
   "nbconvert_exporter": "python",
   "pygments_lexer": "ipython3",
   "version": "3.10.1"
  }
 },
 "nbformat": 4,
 "nbformat_minor": 5
}
